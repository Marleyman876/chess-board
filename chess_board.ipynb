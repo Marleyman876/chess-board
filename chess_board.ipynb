{
 "cells": [
  {
   "cell_type": "code",
   "execution_count": 2,
   "source": [
    "import numpy as np\n",
    "import matplotlib.pyplot as plt"
   ],
   "outputs": [],
   "metadata": {}
  },
  {
   "cell_type": "code",
   "execution_count": 3,
   "source": [
    "\n",
    "\n",
    "class Board:\n",
    "  def __init__(self):\n",
    "    self.grid = np.zeros((8,8,3))\n",
    "    self.grid[1::2, ::2] = 1\n",
    "    self.grid[::2, 1::2] = 1\n",
    "    self.blue_row = None\n",
    "    self.blue_col = None\n",
    "    self.red_row = None\n",
    "    self.red_col = None\n",
    "\n",
    "  def add_blue(self, blue_row, blue_col):\n",
    "    self.blue_row = blue_row\n",
    "    self.blue_col = blue_col\n",
    "    self.grid[blue_row, blue_col] = (0,0,1)\n",
    "\n",
    "  def add_red(self, red_row, red_col):\n",
    "    self.red_row = red_row\n",
    "    self.red_col = red_col\n",
    "    self.grid[red_row, red_col] = (1,0,0)\n",
    "    \n",
    "  def is_under_attack(self):\n",
    "    if self.red_row == self.blue_row:\n",
    "      return True\n",
    "    elif self.red_col == self.blue_col:\n",
    "      return True\n",
    "    elif abs(self.red_row - self.blue_row) == abs(self.red_col - self.blue_col):\n",
    "      return True\n",
    "    else:\n",
    "      return False\n",
    "    \n",
    "  def render(self):\n",
    "   \n",
    "    plt.imshow(self.grid)\n",
    "    "
   ],
   "outputs": [],
   "metadata": {}
  },
  {
   "cell_type": "code",
   "execution_count": 4,
   "source": [
    "board = Board()\n",
    "board.add_blue(0,2)\n",
    "board.add_red(0,6)\n",
    "board.render()\n",
    "assert board.is_under_attack()\n",
    "print('***Under Attack***')"
   ],
   "outputs": [
    {
     "output_type": "stream",
     "name": "stdout",
     "text": [
      "***Under Attack***\n"
     ]
    },
    {
     "output_type": "display_data",
     "data": {
      "text/plain": [
       "<Figure size 432x288 with 1 Axes>"
      ],
      "image/png": "[encoded data removed]"
     },
     "metadata": {
      "needs_background": "light"
     }
    }
   ],
   "metadata": {}
  },
  {
   "cell_type": "code",
   "execution_count": 5,
   "source": [
    "board = Board()\n",
    "board.add_blue(0,2)\n",
    "board.add_red(2,4)\n",
    "board.render()\n",
    "assert board.is_under_attack()\n",
    "print('***Under Attack***')"
   ],
   "outputs": [
    {
     "output_type": "stream",
     "name": "stdout",
     "text": [
      "***Under Attack***\n"
     ]
    },
    {
     "output_type": "display_data",
     "data": {
      "text/plain": [
       "<Figure size 432x288 with 1 Axes>"
      ],
      "image/png": "[encoded data removed]"
     },
     "metadata": {
      "needs_background": "light"
     }
    }
   ],
   "metadata": {}
  },
  {
   "cell_type": "code",
   "execution_count": 6,
   "source": [
    "board = Board()\n",
    "board.add_blue(0,2)\n",
    "board.add_red(7,6)\n",
    "board.render()\n",
    "assert  not board.is_under_attack()\n",
    "print('***Not Under Attack***')"
   ],
   "outputs": [
    {
     "output_type": "stream",
     "name": "stdout",
     "text": [
      "***Not Under Attack***\n"
     ]
    },
    {
     "output_type": "display_data",
     "data": {
      "text/plain": [
       "<Figure size 432x288 with 1 Axes>"
      ],
      "image/png": "[encoded data removed]"
     },
     "metadata": {
      "needs_background": "light"
     }
    }
   ],
   "metadata": {}
  },
  {
   "cell_type": "code",
   "execution_count": 7,
   "source": [
    "board = Board()\n",
    "board.add_blue(0,2)\n",
    "board.add_red(2,2)\n",
    "board.render()\n",
    "assert board.is_under_attack()\n",
    "print('***Under Attack***')"
   ],
   "outputs": [
    {
     "output_type": "stream",
     "name": "stdout",
     "text": [
      "***Under Attack***\n"
     ]
    },
    {
     "output_type": "display_data",
     "data": {
      "text/plain": [
       "<Figure size 432x288 with 1 Axes>"
      ],
      "image/png": "[encoded data removed]"
     },
     "metadata": {
      "needs_background": "light"
     }
    }
   ],
   "metadata": {}
  }
 ],
 "metadata": {
  "orig_nbformat": 4,
  "language_info": {
   "name": "python"
  }
 },
 "nbformat": 4,
 "nbformat_minor": 2
}